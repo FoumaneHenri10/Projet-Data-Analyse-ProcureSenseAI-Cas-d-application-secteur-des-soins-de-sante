{
 "cells": [
  {
   "cell_type": "markdown",
   "id": "a1ad9303",
   "metadata": {},
   "source": [
    "Projet Data Analyse | ProcureSenseAI – Cas d’application secteur des soins de santé | Analyse Python"
   ]
  },
  {
   "cell_type": "markdown",
   "id": "d2927df5",
   "metadata": {},
   "source": [
    "Workflow global du projet ProcureSenseAI\n",
    "\n",
    "-> Power BI (Phase 1 - Exploration initiale & reporting)\n",
    "\n",
    "Lecture et visualisation initiale du fichier CSV (vue d'ensemble, retards, fournisseurs, etc.)\n",
    "\n",
    "Construction des 4 pages du tableau de bord (KPIs, analyse fournisseur, évolution dans le temps, retards)\n",
    "\n",
    "-> Python (Phase 2 - Intelligence artificielle)\n",
    "\n",
    "Entraînement d’un modèle IA pour prédire les retards\n",
    "\n",
    "Sauvegarde du modèle pour déploiement futur\n",
    "\n",
    "-> Snowflake + SQL (Phase 3 - Industrialisation & gestion des données)\n",
    "\n",
    "Chargement de la donnée dans Snowflake\n",
    "\n",
    "Requêtes SQL automatisées pour calculs, enrichissement, transformation\n",
    "\n",
    "Préparation des données pour des usages IA ou BI ( Table retard fournisseur et vue retard fournisseur )\n",
    "\n",
    "-> Power BI (Phase 4 - Intégration & visualisation intelligente)\n",
    "\n",
    "Connexion directe à Snowflake\n",
    "\n",
    "Intégration du csv enrichie suite à la prédiction (ex : commandes avec risque)\n",
    "\n",
    "Intégration des résultats du modèle IA (ex : probabilité de retard par commande)\n",
    "\n",
    "Affichage de nouveaux KPIs : Nombre de commandes max, Somme de retard par jours, etc."
   ]
  },
  {
   "cell_type": "markdown",
   "id": "93b69eeb",
   "metadata": {},
   "source": [
    "Étape 1 – Importer les bibliothèques & charger les données"
   ]
  },
  {
   "cell_type": "markdown",
   "id": "2858b084",
   "metadata": {},
   "source": [
    "##### Import des bibliothèques"
   ]
  },
  {
   "cell_type": "code",
   "execution_count": 254,
   "id": "bcfc2595",
   "metadata": {},
   "outputs": [],
   "source": [
    "import pandas as pd\n",
    "import numpy as np\n",
    "import matplotlib.pyplot as plt\n",
    "import seaborn as sns\n",
    "import matplotlib.pyplot as plt"
   ]
  },
  {
   "cell_type": "markdown",
   "id": "70378aad",
   "metadata": {},
   "source": [
    "##### Chargement du fichier CSV"
   ]
  },
  {
   "cell_type": "code",
   "execution_count": null,
   "id": "94aa01ad",
   "metadata": {},
   "outputs": [],
   "source": [
    "df = pd.read_csv(\"procuresenseai_data.csv\")"
   ]
  },
  {
   "cell_type": "markdown",
   "id": "e0fa1b45",
   "metadata": {},
   "source": [
    "##### Aperçu des 5 premières lignes"
   ]
  },
  {
   "cell_type": "code",
   "execution_count": 256,
   "id": "fdf02ae4",
   "metadata": {},
   "outputs": [
    {
     "name": "stdout",
     "output_type": "stream",
     "text": [
      "   id_commande       fournisseur       catégorie_achat date_commande  \\\n",
      "0         1000  ClinLab Services  Équipements médicaux    2025-06-10   \n",
      "1         1001        PharmaCore            Consulting    2025-05-14   \n",
      "2         1002         BioMedica            Logistique    2025-02-10   \n",
      "3         1003          Sanitech            Logistique    2025-03-29   \n",
      "4         1004          Sanitech     Services externes    2025-03-20   \n",
      "\n",
      "  date_livraison  montant (€)  retard (jours)  satisfaction (1-5)  statut  \n",
      "0     2025-06-11      8671.67               0                 2.7    Reçu  \n",
      "1     2025-05-14      1573.48               0                 1.6  Annulé  \n",
      "2     2025-02-15     19253.92               0                 1.4    Reçu  \n",
      "3     2025-04-04      7446.93               1                 2.4    Reçu  \n",
      "4     2025-03-25      7094.06               0                 1.1    Reçu  \n"
     ]
    }
   ],
   "source": [
    "print(df.head())"
   ]
  },
  {
   "cell_type": "markdown",
   "id": "ea8bcf12",
   "metadata": {},
   "source": [
    "Analyse de la phase 1 : \n",
    "\n",
    "Objectif : importer le fichier CSV contenant les données d’achats fournisseurs pour les analyser.\n",
    "\n",
    "Actions réalisées :\n",
    "\n",
    "-Chargement du fichier procuresenseai_data_sanofi.csv\n",
    "\n",
    "-Vérification des colonnes, types, valeurs manquantes et statistiques de base\n",
    "\n",
    "-Première compréhension des dimensions métier : fournisseurs, commandes, satisfaction, retards, montants…\n",
    "\n",
    "Impact : cette phase permet de comprendre la structure des données avant tout traitement IA."
   ]
  },
  {
   "cell_type": "markdown",
   "id": "8d1ba810",
   "metadata": {},
   "source": [
    "Étape 2 – Nettoyage initial"
   ]
  },
  {
   "cell_type": "markdown",
   "id": "b91e26b0",
   "metadata": {},
   "source": [
    "##### Renommage simplifié des colonnes"
   ]
  },
  {
   "cell_type": "code",
   "execution_count": 257,
   "id": "caddb4f9",
   "metadata": {},
   "outputs": [],
   "source": [
    "df.columns = [col.strip().lower().replace(\" \", \"_\").replace(\"(\", \"\").replace(\")\", \"\") for col in df.columns]"
   ]
  },
  {
   "cell_type": "markdown",
   "id": "edd4df04",
   "metadata": {},
   "source": [
    "##### Types des colonnes"
   ]
  },
  {
   "cell_type": "code",
   "execution_count": 258,
   "id": "ba1f5f14",
   "metadata": {},
   "outputs": [
    {
     "name": "stdout",
     "output_type": "stream",
     "text": [
      "\n",
      "Types de données :\n",
      "id_commande           int64\n",
      "fournisseur          object\n",
      "catégorie_achat      object\n",
      "date_commande        object\n",
      "date_livraison       object\n",
      "montant_€           float64\n",
      "retard_jours          int64\n",
      "satisfaction_1-5    float64\n",
      "statut               object\n",
      "dtype: object\n"
     ]
    }
   ],
   "source": [
    "print(\"\\nTypes de données :\")\n",
    "print(df.dtypes)"
   ]
  },
  {
   "cell_type": "markdown",
   "id": "82353b18",
   "metadata": {},
   "source": [
    "##### Conversion des dates"
   ]
  },
  {
   "cell_type": "code",
   "execution_count": 259,
   "id": "eed6cf88",
   "metadata": {},
   "outputs": [],
   "source": [
    "df[\"date_commande\"] = pd.to_datetime(df[\"date_commande\"])\n",
    "df[\"date_livraison\"] = pd.to_datetime(df[\"date_livraison\"])"
   ]
  },
  {
   "cell_type": "markdown",
   "id": "0120b95e",
   "metadata": {},
   "source": [
    "##### Calcul automatique du retard (si non présent)"
   ]
  },
  {
   "cell_type": "code",
   "execution_count": 260,
   "id": "fea802a4",
   "metadata": {},
   "outputs": [],
   "source": [
    "if \"retard_jours\" not in df.columns:\n",
    "    df[\"retard_jours\"] = (df[\"date_livraison\"] - df[\"date_commande\"]).dt.days"
   ]
  },
  {
   "cell_type": "code",
   "execution_count": 261,
   "id": "9446cb00",
   "metadata": {},
   "outputs": [
    {
     "name": "stdout",
     "output_type": "stream",
     "text": [
      "   id_commande       fournisseur       catégorie_achat date_commande  \\\n",
      "0         1000  ClinLab Services  Équipements médicaux    2025-06-10   \n",
      "1         1001        PharmaCore            Consulting    2025-05-14   \n",
      "2         1002         BioMedica            Logistique    2025-02-10   \n",
      "3         1003          Sanitech            Logistique    2025-03-29   \n",
      "4         1004          Sanitech     Services externes    2025-03-20   \n",
      "\n",
      "  date_livraison  montant_€  retard_jours  satisfaction_1-5  statut  \n",
      "0     2025-06-11    8671.67             0               2.7    Reçu  \n",
      "1     2025-05-14    1573.48             0               1.6  Annulé  \n",
      "2     2025-02-15   19253.92             0               1.4    Reçu  \n",
      "3     2025-04-04    7446.93             1               2.4    Reçu  \n",
      "4     2025-03-25    7094.06             0               1.1    Reçu  \n"
     ]
    }
   ],
   "source": [
    "print(df.head())"
   ]
  },
  {
   "cell_type": "markdown",
   "id": "fdaec7e5",
   "metadata": {},
   "source": [
    "Analyse de la phase 2 :\n",
    "\n",
    "Objectif : rendre les données exploitables pour l’analyse prédictive.\n",
    "\n",
    "Actions réalisées :\n",
    "\n",
    "-Conversion des dates (date_commande, date_livraison) en format datetime\n",
    "\n",
    "-Création de nouvelles variables : retard = 1 si retard_jours > 0\n",
    "\n",
    "-Suppression des colonnes inutiles (id_commande, etc.)\n",
    "\n",
    "-Vérification des doublons et valeurs manquantes\n",
    "\n",
    "Impact : améliore la qualité des données pour garantir de bonnes performances du modèle IA."
   ]
  },
  {
   "cell_type": "markdown",
   "id": "3a227868",
   "metadata": {},
   "source": [
    "Étape 3 – Feature Engineering ; Création de variables explicatives"
   ]
  },
  {
   "cell_type": "markdown",
   "id": "0c600c4d",
   "metadata": {},
   "source": [
    "##### Réation de la variable cible binaire : retard ou non"
   ]
  },
  {
   "cell_type": "code",
   "execution_count": 262,
   "id": "18d8eeb3",
   "metadata": {},
   "outputs": [],
   "source": [
    "df[\"retard\"] = df[\"retard_jours\"].apply(lambda x: 1 if x > 0 else 0)"
   ]
  },
  {
   "cell_type": "markdown",
   "id": "512a861c",
   "metadata": {},
   "source": [
    "##### Extraction de features temporelles"
   ]
  },
  {
   "cell_type": "code",
   "execution_count": 263,
   "id": "c9a6ecf3",
   "metadata": {},
   "outputs": [],
   "source": [
    "df[\"jour_semaine_commande\"] = df[\"date_commande\"].dt.dayofweek  # 0 = lundi\n",
    "df[\"mois_commande\"] = df[\"date_commande\"].dt.month"
   ]
  },
  {
   "cell_type": "markdown",
   "id": "21d21f31",
   "metadata": {},
   "source": [
    "##### Encodage des variables catégorielles"
   ]
  },
  {
   "cell_type": "code",
   "execution_count": 264,
   "id": "b04eb6a4",
   "metadata": {},
   "outputs": [],
   "source": [
    "df_encoded = pd.get_dummies(df, columns=[\"fournisseur\", \"catégorie_achat\", \"statut\"], drop_first=True)"
   ]
  },
  {
   "cell_type": "markdown",
   "id": "fcec9554",
   "metadata": {},
   "source": [
    "##### Vérification du nouveau dataframe"
   ]
  },
  {
   "cell_type": "code",
   "execution_count": 265,
   "id": "c57d155a",
   "metadata": {},
   "outputs": [
    {
     "name": "stdout",
     "output_type": "stream",
     "text": [
      "   id_commande date_commande date_livraison  montant_€  retard_jours  \\\n",
      "0         1000    2025-06-10     2025-06-11    8671.67             0   \n",
      "1         1001    2025-05-14     2025-05-14    1573.48             0   \n",
      "2         1002    2025-02-10     2025-02-15   19253.92             0   \n",
      "3         1003    2025-03-29     2025-04-04    7446.93             1   \n",
      "4         1004    2025-03-20     2025-03-25    7094.06             0   \n",
      "\n",
      "   satisfaction_1-5  retard  jour_semaine_commande  mois_commande  \\\n",
      "0               2.7       0                      1              6   \n",
      "1               1.6       0                      2              5   \n",
      "2               1.4       0                      0              2   \n",
      "3               2.4       1                      5              3   \n",
      "4               1.1       0                      3              3   \n",
      "\n",
      "   fournisseur_BioMedica  ...  catégorie_achat_Formation  \\\n",
      "0                  False  ...                      False   \n",
      "1                  False  ...                      False   \n",
      "2                   True  ...                      False   \n",
      "3                  False  ...                      False   \n",
      "4                  False  ...                      False   \n",
      "\n",
      "   catégorie_achat_Informatique  catégorie_achat_Logistique  \\\n",
      "0                         False                       False   \n",
      "1                         False                       False   \n",
      "2                         False                        True   \n",
      "3                         False                        True   \n",
      "4                         False                       False   \n",
      "\n",
      "   catégorie_achat_Matériel labo  catégorie_achat_Médicaments  \\\n",
      "0                          False                        False   \n",
      "1                          False                        False   \n",
      "2                          False                        False   \n",
      "3                          False                        False   \n",
      "4                          False                        False   \n",
      "\n",
      "   catégorie_achat_Services externes  catégorie_achat_Sécurité  \\\n",
      "0                              False                     False   \n",
      "1                              False                     False   \n",
      "2                              False                     False   \n",
      "3                              False                     False   \n",
      "4                               True                     False   \n",
      "\n",
      "   catégorie_achat_Équipements médicaux  statut_En cours  statut_Reçu  \n",
      "0                                  True            False         True  \n",
      "1                                 False            False        False  \n",
      "2                                 False            False         True  \n",
      "3                                 False            False         True  \n",
      "4                                 False            False         True  \n",
      "\n",
      "[5 rows x 29 columns]\n",
      "\n",
      "Dimensions : (1000, 29)\n"
     ]
    }
   ],
   "source": [
    "print(df_encoded.head())\n",
    "print(\"\\nDimensions :\", df_encoded.shape)"
   ]
  },
  {
   "cell_type": "markdown",
   "id": "56506991",
   "metadata": {},
   "source": [
    "Analyse de la phase 3 : \n",
    "\n",
    "Objectif : enrichir les données en extrayant des informations pertinentes.\n",
    "\n",
    "Actions réalisées :\n",
    "\n",
    "-Extraction de la durée d’acheminement\n",
    "\n",
    "-Extraction du mois de commande pour observer les tendances temporelles\n",
    "\n",
    "-Transformation de variables catégorielles (fournisseur, catégorie_achat, statut) via One-Hot Encoding\n",
    "\n",
    "Impact : donne au modèle IA plus de contexte pour apprendre à prédire le comportement des fournisseurs."
   ]
  },
  {
   "cell_type": "markdown",
   "id": "22733abc",
   "metadata": {},
   "source": [
    "Étape 4 – Séparation X / y"
   ]
  },
  {
   "cell_type": "code",
   "execution_count": 266,
   "id": "6dc74c4e",
   "metadata": {},
   "outputs": [],
   "source": [
    "from sklearn.model_selection import train_test_split"
   ]
  },
  {
   "cell_type": "markdown",
   "id": "3a5c9f7f",
   "metadata": {},
   "source": [
    "##### Variable cible"
   ]
  },
  {
   "cell_type": "code",
   "execution_count": 267,
   "id": "ca61d80b",
   "metadata": {},
   "outputs": [],
   "source": [
    "y = df_encoded[\"retard\"]"
   ]
  },
  {
   "cell_type": "markdown",
   "id": "a8ac4dbc",
   "metadata": {},
   "source": [
    "##### Variables explicatives : on exclut les colonnes inutiles"
   ]
  },
  {
   "cell_type": "code",
   "execution_count": 268,
   "id": "20458b29",
   "metadata": {},
   "outputs": [],
   "source": [
    "X = df_encoded.drop(columns=[\"id_commande\", \"date_commande\", \"date_livraison\", \"retard_jours\", \"retard\"])"
   ]
  },
  {
   "cell_type": "markdown",
   "id": "21c2745e",
   "metadata": {},
   "source": [
    "##### Séparation en jeu d'entraînement / test"
   ]
  },
  {
   "cell_type": "code",
   "execution_count": 269,
   "id": "f1f06ebb",
   "metadata": {},
   "outputs": [],
   "source": [
    "X_train, X_test, y_train, y_test = train_test_split(X, y, test_size=0.2, random_state=42)"
   ]
  },
  {
   "cell_type": "code",
   "execution_count": 270,
   "id": "4a5d9f01",
   "metadata": {},
   "outputs": [
    {
     "name": "stdout",
     "output_type": "stream",
     "text": [
      "Dimensions de X_train : (800, 24)\n"
     ]
    }
   ],
   "source": [
    "print(\"Dimensions de X_train :\", X_train.shape)"
   ]
  },
  {
   "cell_type": "markdown",
   "id": "3256927f",
   "metadata": {},
   "source": [
    "Analyse de la phase 4 : \n",
    "\n",
    "Objectif : diviser les données en jeu d’entraînement et jeu de test pour évaluer objectivement le modèle.\n",
    "\n",
    "Actions réalisées :\n",
    "\n",
    "-Séparation des features (X) et de la cible (y)\n",
    "\n",
    "-Utilisation de train_test_split (80% entraînement / 20% test)\n",
    "\n",
    "Impact : permet d'entraîner un modèle IA tout en évaluant sa capacité à généraliser."
   ]
  },
  {
   "cell_type": "markdown",
   "id": "058b44ef",
   "metadata": {},
   "source": [
    "Étape 5 – Entraîner un modèle de classification (Gradient Boosting)"
   ]
  },
  {
   "cell_type": "markdown",
   "id": "f2ded250",
   "metadata": {},
   "source": [
    "On utilise l’algorithme GradientBoostingClassifier pour prédire si une commande sera en retard (retard = 1) ou non (retard = 0)."
   ]
  },
  {
   "cell_type": "markdown",
   "id": "b67f3a7c",
   "metadata": {},
   "source": [
    "##### Initialisation du modèle"
   ]
  },
  {
   "cell_type": "code",
   "execution_count": 271,
   "id": "eb2fb890",
   "metadata": {},
   "outputs": [],
   "source": [
    "from sklearn.linear_model import LogisticRegression\n",
    "from sklearn.metrics import classification_report, confusion_matrix"
   ]
  },
  {
   "cell_type": "markdown",
   "id": "270118ed",
   "metadata": {},
   "source": [
    "##### Entraînement du modèle"
   ]
  },
  {
   "cell_type": "code",
   "execution_count": 272,
   "id": "e2e2f48c",
   "metadata": {},
   "outputs": [
    {
     "name": "stderr",
     "output_type": "stream",
     "text": [
      "c:\\Users\\fouma\\anaconda3\\Lib\\site-packages\\sklearn\\linear_model\\_logistic.py:469: ConvergenceWarning: lbfgs failed to converge (status=1):\n",
      "STOP: TOTAL NO. of ITERATIONS REACHED LIMIT.\n",
      "\n",
      "Increase the number of iterations (max_iter) or scale the data as shown in:\n",
      "    https://scikit-learn.org/stable/modules/preprocessing.html\n",
      "Please also refer to the documentation for alternative solver options:\n",
      "    https://scikit-learn.org/stable/modules/linear_model.html#logistic-regression\n",
      "  n_iter_i = _check_optimize_result(\n"
     ]
    },
    {
     "data": {
      "text/html": [
       "<style>#sk-container-id-10 {\n",
       "  /* Definition of color scheme common for light and dark mode */\n",
       "  --sklearn-color-text: black;\n",
       "  --sklearn-color-line: gray;\n",
       "  /* Definition of color scheme for unfitted estimators */\n",
       "  --sklearn-color-unfitted-level-0: #fff5e6;\n",
       "  --sklearn-color-unfitted-level-1: #f6e4d2;\n",
       "  --sklearn-color-unfitted-level-2: #ffe0b3;\n",
       "  --sklearn-color-unfitted-level-3: chocolate;\n",
       "  /* Definition of color scheme for fitted estimators */\n",
       "  --sklearn-color-fitted-level-0: #f0f8ff;\n",
       "  --sklearn-color-fitted-level-1: #d4ebff;\n",
       "  --sklearn-color-fitted-level-2: #b3dbfd;\n",
       "  --sklearn-color-fitted-level-3: cornflowerblue;\n",
       "\n",
       "  /* Specific color for light theme */\n",
       "  --sklearn-color-text-on-default-background: var(--sg-text-color, var(--theme-code-foreground, var(--jp-content-font-color1, black)));\n",
       "  --sklearn-color-background: var(--sg-background-color, var(--theme-background, var(--jp-layout-color0, white)));\n",
       "  --sklearn-color-border-box: var(--sg-text-color, var(--theme-code-foreground, var(--jp-content-font-color1, black)));\n",
       "  --sklearn-color-icon: #696969;\n",
       "\n",
       "  @media (prefers-color-scheme: dark) {\n",
       "    /* Redefinition of color scheme for dark theme */\n",
       "    --sklearn-color-text-on-default-background: var(--sg-text-color, var(--theme-code-foreground, var(--jp-content-font-color1, white)));\n",
       "    --sklearn-color-background: var(--sg-background-color, var(--theme-background, var(--jp-layout-color0, #111)));\n",
       "    --sklearn-color-border-box: var(--sg-text-color, var(--theme-code-foreground, var(--jp-content-font-color1, white)));\n",
       "    --sklearn-color-icon: #878787;\n",
       "  }\n",
       "}\n",
       "\n",
       "#sk-container-id-10 {\n",
       "  color: var(--sklearn-color-text);\n",
       "}\n",
       "\n",
       "#sk-container-id-10 pre {\n",
       "  padding: 0;\n",
       "}\n",
       "\n",
       "#sk-container-id-10 input.sk-hidden--visually {\n",
       "  border: 0;\n",
       "  clip: rect(1px 1px 1px 1px);\n",
       "  clip: rect(1px, 1px, 1px, 1px);\n",
       "  height: 1px;\n",
       "  margin: -1px;\n",
       "  overflow: hidden;\n",
       "  padding: 0;\n",
       "  position: absolute;\n",
       "  width: 1px;\n",
       "}\n",
       "\n",
       "#sk-container-id-10 div.sk-dashed-wrapped {\n",
       "  border: 1px dashed var(--sklearn-color-line);\n",
       "  margin: 0 0.4em 0.5em 0.4em;\n",
       "  box-sizing: border-box;\n",
       "  padding-bottom: 0.4em;\n",
       "  background-color: var(--sklearn-color-background);\n",
       "}\n",
       "\n",
       "#sk-container-id-10 div.sk-container {\n",
       "  /* jupyter's `normalize.less` sets `[hidden] { display: none; }`\n",
       "     but bootstrap.min.css set `[hidden] { display: none !important; }`\n",
       "     so we also need the `!important` here to be able to override the\n",
       "     default hidden behavior on the sphinx rendered scikit-learn.org.\n",
       "     See: https://github.com/scikit-learn/scikit-learn/issues/21755 */\n",
       "  display: inline-block !important;\n",
       "  position: relative;\n",
       "}\n",
       "\n",
       "#sk-container-id-10 div.sk-text-repr-fallback {\n",
       "  display: none;\n",
       "}\n",
       "\n",
       "div.sk-parallel-item,\n",
       "div.sk-serial,\n",
       "div.sk-item {\n",
       "  /* draw centered vertical line to link estimators */\n",
       "  background-image: linear-gradient(var(--sklearn-color-text-on-default-background), var(--sklearn-color-text-on-default-background));\n",
       "  background-size: 2px 100%;\n",
       "  background-repeat: no-repeat;\n",
       "  background-position: center center;\n",
       "}\n",
       "\n",
       "/* Parallel-specific style estimator block */\n",
       "\n",
       "#sk-container-id-10 div.sk-parallel-item::after {\n",
       "  content: \"\";\n",
       "  width: 100%;\n",
       "  border-bottom: 2px solid var(--sklearn-color-text-on-default-background);\n",
       "  flex-grow: 1;\n",
       "}\n",
       "\n",
       "#sk-container-id-10 div.sk-parallel {\n",
       "  display: flex;\n",
       "  align-items: stretch;\n",
       "  justify-content: center;\n",
       "  background-color: var(--sklearn-color-background);\n",
       "  position: relative;\n",
       "}\n",
       "\n",
       "#sk-container-id-10 div.sk-parallel-item {\n",
       "  display: flex;\n",
       "  flex-direction: column;\n",
       "}\n",
       "\n",
       "#sk-container-id-10 div.sk-parallel-item:first-child::after {\n",
       "  align-self: flex-end;\n",
       "  width: 50%;\n",
       "}\n",
       "\n",
       "#sk-container-id-10 div.sk-parallel-item:last-child::after {\n",
       "  align-self: flex-start;\n",
       "  width: 50%;\n",
       "}\n",
       "\n",
       "#sk-container-id-10 div.sk-parallel-item:only-child::after {\n",
       "  width: 0;\n",
       "}\n",
       "\n",
       "/* Serial-specific style estimator block */\n",
       "\n",
       "#sk-container-id-10 div.sk-serial {\n",
       "  display: flex;\n",
       "  flex-direction: column;\n",
       "  align-items: center;\n",
       "  background-color: var(--sklearn-color-background);\n",
       "  padding-right: 1em;\n",
       "  padding-left: 1em;\n",
       "}\n",
       "\n",
       "\n",
       "/* Toggleable style: style used for estimator/Pipeline/ColumnTransformer box that is\n",
       "clickable and can be expanded/collapsed.\n",
       "- Pipeline and ColumnTransformer use this feature and define the default style\n",
       "- Estimators will overwrite some part of the style using the `sk-estimator` class\n",
       "*/\n",
       "\n",
       "/* Pipeline and ColumnTransformer style (default) */\n",
       "\n",
       "#sk-container-id-10 div.sk-toggleable {\n",
       "  /* Default theme specific background. It is overwritten whether we have a\n",
       "  specific estimator or a Pipeline/ColumnTransformer */\n",
       "  background-color: var(--sklearn-color-background);\n",
       "}\n",
       "\n",
       "/* Toggleable label */\n",
       "#sk-container-id-10 label.sk-toggleable__label {\n",
       "  cursor: pointer;\n",
       "  display: block;\n",
       "  width: 100%;\n",
       "  margin-bottom: 0;\n",
       "  padding: 0.5em;\n",
       "  box-sizing: border-box;\n",
       "  text-align: center;\n",
       "}\n",
       "\n",
       "#sk-container-id-10 label.sk-toggleable__label-arrow:before {\n",
       "  /* Arrow on the left of the label */\n",
       "  content: \"▸\";\n",
       "  float: left;\n",
       "  margin-right: 0.25em;\n",
       "  color: var(--sklearn-color-icon);\n",
       "}\n",
       "\n",
       "#sk-container-id-10 label.sk-toggleable__label-arrow:hover:before {\n",
       "  color: var(--sklearn-color-text);\n",
       "}\n",
       "\n",
       "/* Toggleable content - dropdown */\n",
       "\n",
       "#sk-container-id-10 div.sk-toggleable__content {\n",
       "  max-height: 0;\n",
       "  max-width: 0;\n",
       "  overflow: hidden;\n",
       "  text-align: left;\n",
       "  /* unfitted */\n",
       "  background-color: var(--sklearn-color-unfitted-level-0);\n",
       "}\n",
       "\n",
       "#sk-container-id-10 div.sk-toggleable__content.fitted {\n",
       "  /* fitted */\n",
       "  background-color: var(--sklearn-color-fitted-level-0);\n",
       "}\n",
       "\n",
       "#sk-container-id-10 div.sk-toggleable__content pre {\n",
       "  margin: 0.2em;\n",
       "  border-radius: 0.25em;\n",
       "  color: var(--sklearn-color-text);\n",
       "  /* unfitted */\n",
       "  background-color: var(--sklearn-color-unfitted-level-0);\n",
       "}\n",
       "\n",
       "#sk-container-id-10 div.sk-toggleable__content.fitted pre {\n",
       "  /* unfitted */\n",
       "  background-color: var(--sklearn-color-fitted-level-0);\n",
       "}\n",
       "\n",
       "#sk-container-id-10 input.sk-toggleable__control:checked~div.sk-toggleable__content {\n",
       "  /* Expand drop-down */\n",
       "  max-height: 200px;\n",
       "  max-width: 100%;\n",
       "  overflow: auto;\n",
       "}\n",
       "\n",
       "#sk-container-id-10 input.sk-toggleable__control:checked~label.sk-toggleable__label-arrow:before {\n",
       "  content: \"▾\";\n",
       "}\n",
       "\n",
       "/* Pipeline/ColumnTransformer-specific style */\n",
       "\n",
       "#sk-container-id-10 div.sk-label input.sk-toggleable__control:checked~label.sk-toggleable__label {\n",
       "  color: var(--sklearn-color-text);\n",
       "  background-color: var(--sklearn-color-unfitted-level-2);\n",
       "}\n",
       "\n",
       "#sk-container-id-10 div.sk-label.fitted input.sk-toggleable__control:checked~label.sk-toggleable__label {\n",
       "  background-color: var(--sklearn-color-fitted-level-2);\n",
       "}\n",
       "\n",
       "/* Estimator-specific style */\n",
       "\n",
       "/* Colorize estimator box */\n",
       "#sk-container-id-10 div.sk-estimator input.sk-toggleable__control:checked~label.sk-toggleable__label {\n",
       "  /* unfitted */\n",
       "  background-color: var(--sklearn-color-unfitted-level-2);\n",
       "}\n",
       "\n",
       "#sk-container-id-10 div.sk-estimator.fitted input.sk-toggleable__control:checked~label.sk-toggleable__label {\n",
       "  /* fitted */\n",
       "  background-color: var(--sklearn-color-fitted-level-2);\n",
       "}\n",
       "\n",
       "#sk-container-id-10 div.sk-label label.sk-toggleable__label,\n",
       "#sk-container-id-10 div.sk-label label {\n",
       "  /* The background is the default theme color */\n",
       "  color: var(--sklearn-color-text-on-default-background);\n",
       "}\n",
       "\n",
       "/* On hover, darken the color of the background */\n",
       "#sk-container-id-10 div.sk-label:hover label.sk-toggleable__label {\n",
       "  color: var(--sklearn-color-text);\n",
       "  background-color: var(--sklearn-color-unfitted-level-2);\n",
       "}\n",
       "\n",
       "/* Label box, darken color on hover, fitted */\n",
       "#sk-container-id-10 div.sk-label.fitted:hover label.sk-toggleable__label.fitted {\n",
       "  color: var(--sklearn-color-text);\n",
       "  background-color: var(--sklearn-color-fitted-level-2);\n",
       "}\n",
       "\n",
       "/* Estimator label */\n",
       "\n",
       "#sk-container-id-10 div.sk-label label {\n",
       "  font-family: monospace;\n",
       "  font-weight: bold;\n",
       "  display: inline-block;\n",
       "  line-height: 1.2em;\n",
       "}\n",
       "\n",
       "#sk-container-id-10 div.sk-label-container {\n",
       "  text-align: center;\n",
       "}\n",
       "\n",
       "/* Estimator-specific */\n",
       "#sk-container-id-10 div.sk-estimator {\n",
       "  font-family: monospace;\n",
       "  border: 1px dotted var(--sklearn-color-border-box);\n",
       "  border-radius: 0.25em;\n",
       "  box-sizing: border-box;\n",
       "  margin-bottom: 0.5em;\n",
       "  /* unfitted */\n",
       "  background-color: var(--sklearn-color-unfitted-level-0);\n",
       "}\n",
       "\n",
       "#sk-container-id-10 div.sk-estimator.fitted {\n",
       "  /* fitted */\n",
       "  background-color: var(--sklearn-color-fitted-level-0);\n",
       "}\n",
       "\n",
       "/* on hover */\n",
       "#sk-container-id-10 div.sk-estimator:hover {\n",
       "  /* unfitted */\n",
       "  background-color: var(--sklearn-color-unfitted-level-2);\n",
       "}\n",
       "\n",
       "#sk-container-id-10 div.sk-estimator.fitted:hover {\n",
       "  /* fitted */\n",
       "  background-color: var(--sklearn-color-fitted-level-2);\n",
       "}\n",
       "\n",
       "/* Specification for estimator info (e.g. \"i\" and \"?\") */\n",
       "\n",
       "/* Common style for \"i\" and \"?\" */\n",
       "\n",
       ".sk-estimator-doc-link,\n",
       "a:link.sk-estimator-doc-link,\n",
       "a:visited.sk-estimator-doc-link {\n",
       "  float: right;\n",
       "  font-size: smaller;\n",
       "  line-height: 1em;\n",
       "  font-family: monospace;\n",
       "  background-color: var(--sklearn-color-background);\n",
       "  border-radius: 1em;\n",
       "  height: 1em;\n",
       "  width: 1em;\n",
       "  text-decoration: none !important;\n",
       "  margin-left: 1ex;\n",
       "  /* unfitted */\n",
       "  border: var(--sklearn-color-unfitted-level-1) 1pt solid;\n",
       "  color: var(--sklearn-color-unfitted-level-1);\n",
       "}\n",
       "\n",
       ".sk-estimator-doc-link.fitted,\n",
       "a:link.sk-estimator-doc-link.fitted,\n",
       "a:visited.sk-estimator-doc-link.fitted {\n",
       "  /* fitted */\n",
       "  border: var(--sklearn-color-fitted-level-1) 1pt solid;\n",
       "  color: var(--sklearn-color-fitted-level-1);\n",
       "}\n",
       "\n",
       "/* On hover */\n",
       "div.sk-estimator:hover .sk-estimator-doc-link:hover,\n",
       ".sk-estimator-doc-link:hover,\n",
       "div.sk-label-container:hover .sk-estimator-doc-link:hover,\n",
       ".sk-estimator-doc-link:hover {\n",
       "  /* unfitted */\n",
       "  background-color: var(--sklearn-color-unfitted-level-3);\n",
       "  color: var(--sklearn-color-background);\n",
       "  text-decoration: none;\n",
       "}\n",
       "\n",
       "div.sk-estimator.fitted:hover .sk-estimator-doc-link.fitted:hover,\n",
       ".sk-estimator-doc-link.fitted:hover,\n",
       "div.sk-label-container:hover .sk-estimator-doc-link.fitted:hover,\n",
       ".sk-estimator-doc-link.fitted:hover {\n",
       "  /* fitted */\n",
       "  background-color: var(--sklearn-color-fitted-level-3);\n",
       "  color: var(--sklearn-color-background);\n",
       "  text-decoration: none;\n",
       "}\n",
       "\n",
       "/* Span, style for the box shown on hovering the info icon */\n",
       ".sk-estimator-doc-link span {\n",
       "  display: none;\n",
       "  z-index: 9999;\n",
       "  position: relative;\n",
       "  font-weight: normal;\n",
       "  right: .2ex;\n",
       "  padding: .5ex;\n",
       "  margin: .5ex;\n",
       "  width: min-content;\n",
       "  min-width: 20ex;\n",
       "  max-width: 50ex;\n",
       "  color: var(--sklearn-color-text);\n",
       "  box-shadow: 2pt 2pt 4pt #999;\n",
       "  /* unfitted */\n",
       "  background: var(--sklearn-color-unfitted-level-0);\n",
       "  border: .5pt solid var(--sklearn-color-unfitted-level-3);\n",
       "}\n",
       "\n",
       ".sk-estimator-doc-link.fitted span {\n",
       "  /* fitted */\n",
       "  background: var(--sklearn-color-fitted-level-0);\n",
       "  border: var(--sklearn-color-fitted-level-3);\n",
       "}\n",
       "\n",
       ".sk-estimator-doc-link:hover span {\n",
       "  display: block;\n",
       "}\n",
       "\n",
       "/* \"?\"-specific style due to the `<a>` HTML tag */\n",
       "\n",
       "#sk-container-id-10 a.estimator_doc_link {\n",
       "  float: right;\n",
       "  font-size: 1rem;\n",
       "  line-height: 1em;\n",
       "  font-family: monospace;\n",
       "  background-color: var(--sklearn-color-background);\n",
       "  border-radius: 1rem;\n",
       "  height: 1rem;\n",
       "  width: 1rem;\n",
       "  text-decoration: none;\n",
       "  /* unfitted */\n",
       "  color: var(--sklearn-color-unfitted-level-1);\n",
       "  border: var(--sklearn-color-unfitted-level-1) 1pt solid;\n",
       "}\n",
       "\n",
       "#sk-container-id-10 a.estimator_doc_link.fitted {\n",
       "  /* fitted */\n",
       "  border: var(--sklearn-color-fitted-level-1) 1pt solid;\n",
       "  color: var(--sklearn-color-fitted-level-1);\n",
       "}\n",
       "\n",
       "/* On hover */\n",
       "#sk-container-id-10 a.estimator_doc_link:hover {\n",
       "  /* unfitted */\n",
       "  background-color: var(--sklearn-color-unfitted-level-3);\n",
       "  color: var(--sklearn-color-background);\n",
       "  text-decoration: none;\n",
       "}\n",
       "\n",
       "#sk-container-id-10 a.estimator_doc_link.fitted:hover {\n",
       "  /* fitted */\n",
       "  background-color: var(--sklearn-color-fitted-level-3);\n",
       "}\n",
       "</style><div id=\"sk-container-id-10\" class=\"sk-top-container\"><div class=\"sk-text-repr-fallback\"><pre>LogisticRegression(class_weight=&#x27;balanced&#x27;, max_iter=1000, random_state=42)</pre><b>In a Jupyter environment, please rerun this cell to show the HTML representation or trust the notebook. <br />On GitHub, the HTML representation is unable to render, please try loading this page with nbviewer.org.</b></div><div class=\"sk-container\" hidden><div class=\"sk-item\"><div class=\"sk-estimator fitted sk-toggleable\"><input class=\"sk-toggleable__control sk-hidden--visually\" id=\"sk-estimator-id-10\" type=\"checkbox\" checked><label for=\"sk-estimator-id-10\" class=\"sk-toggleable__label fitted sk-toggleable__label-arrow fitted\">&nbsp;&nbsp;LogisticRegression<a class=\"sk-estimator-doc-link fitted\" rel=\"noreferrer\" target=\"_blank\" href=\"https://scikit-learn.org/1.5/modules/generated/sklearn.linear_model.LogisticRegression.html\">?<span>Documentation for LogisticRegression</span></a><span class=\"sk-estimator-doc-link fitted\">i<span>Fitted</span></span></label><div class=\"sk-toggleable__content fitted\"><pre>LogisticRegression(class_weight=&#x27;balanced&#x27;, max_iter=1000, random_state=42)</pre></div> </div></div></div></div>"
      ],
      "text/plain": [
       "LogisticRegression(class_weight='balanced', max_iter=1000, random_state=42)"
      ]
     },
     "execution_count": 272,
     "metadata": {},
     "output_type": "execute_result"
    }
   ],
   "source": [
    "model = LogisticRegression(max_iter=1000, class_weight='balanced', random_state=42)\n",
    "model.fit(X_train, y_train)"
   ]
  },
  {
   "cell_type": "markdown",
   "id": "c8be11e6",
   "metadata": {},
   "source": [
    "##### Prédiction sur les données de test"
   ]
  },
  {
   "cell_type": "code",
   "execution_count": 273,
   "id": "9b2bce4a",
   "metadata": {},
   "outputs": [],
   "source": [
    "y_pred = model.predict(X_test)"
   ]
  },
  {
   "cell_type": "markdown",
   "id": "f74f1127",
   "metadata": {},
   "source": [
    "##### Évaluation du modèle"
   ]
  },
  {
   "cell_type": "code",
   "execution_count": 274,
   "id": "9d7bfb2b",
   "metadata": {},
   "outputs": [
    {
     "name": "stdout",
     "output_type": "stream",
     "text": [
      "📋 Rapport de classification :\n",
      "              precision    recall  f1-score   support\n",
      "\n",
      "           0       0.52      0.53      0.52        91\n",
      "           1       0.60      0.59      0.59       109\n",
      "\n",
      "    accuracy                           0.56       200\n",
      "   macro avg       0.56      0.56      0.56       200\n",
      "weighted avg       0.56      0.56      0.56       200\n",
      "\n"
     ]
    }
   ],
   "source": [
    "print(\"📋 Rapport de classification :\")\n",
    "print(classification_report(y_test, y_pred))"
   ]
  },
  {
   "cell_type": "code",
   "execution_count": 275,
   "id": "7aeb1fe1",
   "metadata": {},
   "outputs": [
    {
     "name": "stdout",
     "output_type": "stream",
     "text": [
      "\n",
      "🧾 Matrice de confusion :\n",
      "[[48 43]\n",
      " [45 64]]\n"
     ]
    }
   ],
   "source": [
    "print(\"\\n🧾 Matrice de confusion :\")\n",
    "print(confusion_matrix(y_test, y_pred))"
   ]
  },
  {
   "cell_type": "markdown",
   "id": "ab469275",
   "metadata": {},
   "source": [
    "Analyse de la phase 5 : \n"
   ]
  },
  {
   "cell_type": "markdown",
   "id": "fb7068f6",
   "metadata": {},
   "source": [
    "Une fois ceci fait il est important d'évaluer l’importance des variables"
   ]
  },
  {
   "cell_type": "markdown",
   "id": "df611e51",
   "metadata": {},
   "source": [
    "##### Importance des variables"
   ]
  },
  {
   "cell_type": "code",
   "execution_count": 276,
   "id": "bd816bf2",
   "metadata": {},
   "outputs": [
    {
     "name": "stdout",
     "output_type": "stream",
     "text": [
      "Importance des variables (coefficients) :\n",
      "fournisseur_PharmOne Europe             6.606152e-01\n",
      "fournisseur_GlobalMeds                  5.081845e-01\n",
      "fournisseur_PharmaCore                  4.782165e-01\n",
      "fournisseur_ClinLab Services            4.617973e-01\n",
      "fournisseur_HealthTech Group            4.615961e-01\n",
      "fournisseur_BioMedica                   3.330240e-01\n",
      "fournisseur_MedSupply SAS               2.413288e-01\n",
      "fournisseur_Sanitech                    5.402514e-02\n",
      "jour_semaine_commande                   1.199730e-02\n",
      "mois_commande                           3.114515e-03\n",
      "montant_€                              -8.292026e-07\n",
      "statut_Reçu                            -5.314649e-02\n",
      "satisfaction_1-5                       -8.545122e-02\n",
      "statut_En cours                        -1.508558e-01\n",
      "catégorie_achat_Sécurité               -1.827131e-01\n",
      "fournisseur_VitalLab                   -2.610355e-01\n",
      "catégorie_achat_Entretien              -2.785280e-01\n",
      "catégorie_achat_Logistique             -4.033408e-01\n",
      "catégorie_achat_Services externes      -4.116465e-01\n",
      "catégorie_achat_Informatique           -4.321291e-01\n",
      "catégorie_achat_Équipements médicaux   -5.236845e-01\n",
      "catégorie_achat_Matériel labo          -5.302296e-01\n",
      "catégorie_achat_Formation              -5.479152e-01\n",
      "catégorie_achat_Médicaments            -6.045559e-01\n",
      "dtype: float64\n"
     ]
    }
   ],
   "source": [
    "coeffs = pd.Series(model.coef_[0], index=X.columns)\n",
    "print(\"Importance des variables (coefficients) :\")\n",
    "print(coeffs.sort_values(ascending=False))"
   ]
  },
  {
   "cell_type": "markdown",
   "id": "22f5d30a",
   "metadata": {},
   "source": [
    "##### Affichage graphique"
   ]
  },
  {
   "cell_type": "code",
   "execution_count": 277,
   "id": "b83ba86b",
   "metadata": {},
   "outputs": [
    {
     "data": {
      "image/png": "[encoded data removed]",
      "text/plain": [
       "<Figure size 1200x600 with 1 Axes>"
      ]
     },
     "metadata": {},
     "output_type": "display_data"
    }
   ],
   "source": [
    "plt.figure(figsize=(12, 6))\n",
    "coeffs.sort_values(ascending=False)[:10].plot(kind='barh')\n",
    "plt.title(\"Top 10 des variables les plus influentes (Logistic Regression)\")\n",
    "plt.xlabel(\"Coefficient\")\n",
    "plt.tight_layout()\n",
    "plt.show()"
   ]
  },
  {
   "cell_type": "markdown",
   "id": "515c87fa",
   "metadata": {},
   "source": [
    "Conclusion : \n"
   ]
  },
  {
   "cell_type": "markdown",
   "id": "7177cab4",
   "metadata": {},
   "source": [
    "Étape 6 : Sauvegarde du modèle IA entraîné (avec joblib)"
   ]
  },
  {
   "cell_type": "markdown",
   "id": "925b03df",
   "metadata": {},
   "source": [
    "Objectif : enregistrer le modèle IA (Gradient Boosting utilisé lors de l'analyse) pour le réutiliser plus tard, par exemple dans une API ou une interface Power BI."
   ]
  },
  {
   "cell_type": "code",
   "execution_count": 292,
   "id": "3e54b349",
   "metadata": {},
   "outputs": [
    {
     "name": "stdout",
     "output_type": "stream",
     "text": [
      "Modèle sauvegardé avec succès sous 'modele_retard_fournisseur.pkl'\n"
     ]
    }
   ],
   "source": [
    "import joblib\n",
    "\n",
    "# Sauvegarde du modèle\n",
    "joblib.dump(model, 'modele_retard_fournisseur.pkl')\n",
    "print(\"Modèle sauvegardé avec succès sous 'modele_retard_fournisseur.pkl'\")\n",
    "\n"
   ]
  },
  {
   "cell_type": "code",
   "execution_count": 293,
   "id": "3fe8ef4d",
   "metadata": {},
   "outputs": [],
   "source": [
    "# Charger le modèle\n",
    "model = joblib.load('modele_retard_fournisseur.pkl')\n",
    "\n",
    "# Prédire les probabilités sur toutes les commandes\n",
    "df_encoded['risque_retard'] = model.predict_proba(df_encoded.drop(columns=[\"id_commande\", \"date_commande\", \"date_livraison\", \"retard_jours\", \"retard\"]))[:, 1]\n",
    "\n",
    "# Sauvegarder le DataFrame avec la colonne risque\n",
    "df_encoded.to_csv(\"commandes_avec_risque.csv\", index=False)"
   ]
  },
  {
   "cell_type": "markdown",
   "id": "8eb589ec",
   "metadata": {},
   "source": [
    "Chargement du modèle ultérieurement"
   ]
  },
  {
   "cell_type": "markdown",
   "id": "69ca7e91",
   "metadata": {},
   "source": [
    "Processus d’intégration IA & Data Engineering\n",
    "Ce rapport combine l’analyse prédictive (modèle IA Python) et l’industrialisation des données (Snowflake).\n",
    "Les résultats du modèle IA (risque de retard par commande) sont intégrés et visualisés, ainsi que les KPIs issus des vues SQL."
   ]
  },
  {
   "cell_type": "code",
   "execution_count": 279,
   "id": "d2644f12",
   "metadata": {},
   "outputs": [],
   "source": [
    "# Pour réutiliser plus tard\n",
    "model = joblib.load('modele_retard_fournisseur.pkl')\n"
   ]
  },
  {
   "cell_type": "markdown",
   "id": "ef845096",
   "metadata": {},
   "source": [
    " Donc la nous avons Sauvegardé le modèle IA\n"
   ]
  },
  {
   "cell_type": "markdown",
   "id": "28e88cee",
   "metadata": {},
   "source": [
    "Prochaine Etape : Phase Data Engineering – Snowflake + SQL\n"
   ]
  },
  {
   "cell_type": "markdown",
   "id": "63b1dc23",
   "metadata": {},
   "source": [
    "Objectif : Industrialiser le traitement des données en les stockant dans Snowflake, et automatiser les requêtes d’analyse via SQL.\n",
    "\n",
    "-Connexion Python ↔ Snowflake (via snowflake-connector-python)\n",
    "\n",
    "-Création d'une base et d'une table dans Snowflake\n",
    "\n",
    "-Upload du CSV preprocessé dans Snowflake\n",
    "\n",
    "-Requêtes SQL de transformation ou d’agrégation (retards moyens par fournisseur, etc.)\n",
    "\n"
   ]
  },
  {
   "cell_type": "markdown",
   "id": "d6576e66",
   "metadata": {},
   "source": [
    "Dans le process nous avons pu importer le fichier CSV dans Snowflake, on peut attaquer la connexion depuis Python avec le module snowflake-connector-python."
   ]
  },
  {
   "cell_type": "markdown",
   "id": "c77f7d80",
   "metadata": {},
   "source": [
    "Étape 7 : Connexion à Snowflake depuis Python"
   ]
  },
  {
   "cell_type": "markdown",
   "id": "8c4081b7",
   "metadata": {},
   "source": [
    "Script de connexion "
   ]
  },
  {
   "cell_type": "markdown",
   "id": "c79331c7",
   "metadata": {},
   "source": [
    "Connexion à snowflake"
   ]
  },
  {
   "cell_type": "code",
   "execution_count": null,
   "id": "6a8694a5",
   "metadata": {},
   "outputs": [],
   "source": [
    "import pandas as pd\n",
    "import matplotlib.pyplot as plt\n",
    "import seaborn as sns\n",
    "import snowflake.connector\n",
    "conn = snowflake.connector.connect(\n",
    "    user='ton_nom_utilisateur',  \n",
    "    password='ton_mot_de_passe',  \n",
    "    account='ton_compte', #aaaaaa-bbbbbb  \n",
    "    warehouse='COMPUTE_WH',\n",
    "    database='PROCURESENSEAI',\n",
    "    schema='PUBLIC',\n",
    "    insecure_mode=True\n",
    ")\n"
   ]
  },
  {
   "cell_type": "markdown",
   "id": "3bc9d2d9",
   "metadata": {},
   "source": [
    "Créer un curseur pour exécuter des requêtes"
   ]
  },
  {
   "cell_type": "code",
   "execution_count": 284,
   "id": "0dbd121e",
   "metadata": {},
   "outputs": [],
   "source": [
    "cur = conn.cursor()"
   ]
  },
  {
   "cell_type": "markdown",
   "id": "ed9c6c24",
   "metadata": {},
   "source": [
    "Lire la table dans un DataFrame Pandas"
   ]
  },
  {
   "cell_type": "code",
   "execution_count": 285,
   "id": "abb86290",
   "metadata": {},
   "outputs": [],
   "source": [
    "cur.execute(\"SELECT * FROM COMMANDES\")\n",
    "df = pd.DataFrame.from_records(cur.fetchall(), columns=[x[0] for x in cur.description])"
   ]
  },
  {
   "cell_type": "markdown",
   "id": "6cf1a0d9",
   "metadata": {},
   "source": [
    "Vue avec retard moyen et nombre de commandes par fournisseur"
   ]
  },
  {
   "cell_type": "code",
   "execution_count": 286,
   "id": "b5182f66",
   "metadata": {},
   "outputs": [
    {
     "name": "stdout",
     "output_type": "stream",
     "text": [
      "Vue créée : vue_retard_fournisseur\n"
     ]
    }
   ],
   "source": [
    "cur.execute(\"\"\"\n",
    "    CREATE OR REPLACE VIEW vue_retard_fournisseur AS\n",
    "    SELECT fournisseur,\n",
    "           AVG(retard_jours) AS retard_moyen,\n",
    "           COUNT(*) AS nb_commandes,\n",
    "           MAX(montant_euros) AS montant_max\n",
    "    FROM COMMANDES\n",
    "    GROUP BY fournisseur\n",
    "\"\"\")\n",
    "print(\"Vue créée : vue_retard_fournisseur\")"
   ]
  },
  {
   "cell_type": "markdown",
   "id": "ffc9ecde",
   "metadata": {},
   "source": [
    "Lire la vue dans un DataFrame Pandas"
   ]
  },
  {
   "cell_type": "code",
   "execution_count": 287,
   "id": "dcbeeef7",
   "metadata": {},
   "outputs": [
    {
     "name": "stdout",
     "output_type": "stream",
     "text": [
      "        FOURNISSEUR RETARD_MOYEN  NB_COMMANDES  MONTANT_MAX\n",
      "0          Sanitech     2.810000           100     19868.33\n",
      "1  ClinLab Services     3.592233           103     19898.12\n",
      "2          BioLogix     2.402062            97     19990.53\n",
      "3        PharmaCore     3.365217           115     19551.02\n",
      "4         BioMedica     3.067308           104     19946.33\n"
     ]
    }
   ],
   "source": [
    "cur.execute(\"SELECT * FROM vue_retard_fournisseur\")\n",
    "df_vue = pd.DataFrame.from_records(cur.fetchall(), columns=[x[0] for x in cur.description])\n",
    "print(df_vue.head())"
   ]
  },
  {
   "cell_type": "markdown",
   "id": "d8475cc9",
   "metadata": {},
   "source": [
    "Créer une nouvelle table enrichie"
   ]
  },
  {
   "cell_type": "code",
   "execution_count": 288,
   "id": "8782df2f",
   "metadata": {},
   "outputs": [
    {
     "name": "stdout",
     "output_type": "stream",
     "text": [
      "Table créée : table_retard_fournisseur\n"
     ]
    }
   ],
   "source": [
    "cur.execute(\"\"\"\n",
    "    CREATE OR REPLACE TABLE table_retard_fournisseur AS\n",
    "    SELECT * FROM vue_retard_fournisseur\n",
    "\"\"\")\n",
    "print(\"Table créée : table_retard_fournisseur\")"
   ]
  },
  {
   "cell_type": "markdown",
   "id": "7d10bf2e",
   "metadata": {},
   "source": [
    "Fermer la connexion"
   ]
  },
  {
   "cell_type": "code",
   "execution_count": 289,
   "id": "892ac286",
   "metadata": {},
   "outputs": [],
   "source": [
    "cur.close()\n",
    "conn.close()"
   ]
  },
  {
   "cell_type": "markdown",
   "id": "0c47182d",
   "metadata": {},
   "source": [
    "Afficher les premières lignes"
   ]
  },
  {
   "cell_type": "code",
   "execution_count": 290,
   "id": "e3666d07",
   "metadata": {},
   "outputs": [
    {
     "name": "stdout",
     "output_type": "stream",
     "text": [
      "   ID_COMMANDE       FOURNISSEUR       CATEGORIE_ACHAT DATE_COMMANDE  \\\n",
      "0         1000  ClinLab Services  Équipements médicaux    2025-06-10   \n",
      "1         1001        PharmaCore            Consulting    2025-05-14   \n",
      "2         1002         BioMedica            Logistique    2025-02-10   \n",
      "3         1003          Sanitech            Logistique    2025-03-29   \n",
      "4         1004          Sanitech     Services externes    2025-03-20   \n",
      "\n",
      "  DATE_LIVRAISON  MONTANT_EUROS  RETARD_JOURS  SATISFACTION_1_5  STATUT  \n",
      "0     2025-06-11        8671.67             0               2.7    Reçu  \n",
      "1     2025-05-14        1573.48             0               1.6  Annulé  \n",
      "2     2025-02-15       19253.92             0               1.4    Reçu  \n",
      "3     2025-04-04        7446.93             1               2.4    Reçu  \n",
      "4     2025-03-25        7094.06             0               1.1    Reçu  \n",
      "<class 'pandas.core.frame.DataFrame'>\n",
      "RangeIndex: 1000 entries, 0 to 999\n",
      "Data columns (total 9 columns):\n",
      " #   Column            Non-Null Count  Dtype  \n",
      "---  ------            --------------  -----  \n",
      " 0   ID_COMMANDE       1000 non-null   int64  \n",
      " 1   FOURNISSEUR       1000 non-null   object \n",
      " 2   CATEGORIE_ACHAT   1000 non-null   object \n",
      " 3   DATE_COMMANDE     1000 non-null   object \n",
      " 4   DATE_LIVRAISON    1000 non-null   object \n",
      " 5   MONTANT_EUROS     1000 non-null   float64\n",
      " 6   RETARD_JOURS      1000 non-null   int64  \n",
      " 7   SATISFACTION_1_5  1000 non-null   float64\n",
      " 8   STATUT            1000 non-null   object \n",
      "dtypes: float64(2), int64(2), object(5)\n",
      "memory usage: 70.4+ KB\n",
      "None\n"
     ]
    }
   ],
   "source": [
    "print(df.head())\n",
    "print(df.info())\n"
   ]
  },
  {
   "cell_type": "markdown",
   "id": "ef4ba007",
   "metadata": {},
   "source": [
    "Retards vs pas de retards"
   ]
  },
  {
   "cell_type": "code",
   "execution_count": 291,
   "id": "6467bc51",
   "metadata": {},
   "outputs": [
    {
     "data": {
      "image/png": "[encoded data removed]",
      "text/plain": [
       "<Figure size 640x480 with 1 Axes>"
      ]
     },
     "metadata": {},
     "output_type": "display_data"
    }
   ],
   "source": [
    "sns.countplot(x='RETARD_JOURS', data=df)\n",
    "plt.title(\"Répartition des retards\")\n",
    "plt.show()"
   ]
  },
  {
   "cell_type": "markdown",
   "id": "250f7aa1",
   "metadata": {},
   "source": [
    "Satisfaction vs Retard"
   ]
  },
  {
   "cell_type": "code",
   "execution_count": null,
   "id": "626c8ab9",
   "metadata": {},
   "outputs": [
    {
     "data": {
      "image/png": "[encoded data removed]",
      "text/plain": [
       "<Figure size 640x480 with 1 Axes>"
      ]
     },
     "metadata": {},
     "output_type": "display_data"
    }
   ],
   "source": [
    "sns.boxplot(x='RETARD_JOURS', y='SATISFACTION_1_5', data=df)\n",
    "plt.title(\"Satisfaction client selon le retard\")\n",
    "plt.show()"
   ]
  }
 ],
 "metadata": {
  "kernelspec": {
   "display_name": "base",
   "language": "python",
   "name": "python3"
  },
  "language_info": {
   "codemirror_mode": {
    "name": "ipython",
    "version": 3
   },
   "file_extension": ".py",
   "mimetype": "text/x-python",
   "name": "python",
   "nbconvert_exporter": "python",
   "pygments_lexer": "ipython3",
   "version": "3.12.7"
  }
 },
 "nbformat": 4,
 "nbformat_minor": 5
}
